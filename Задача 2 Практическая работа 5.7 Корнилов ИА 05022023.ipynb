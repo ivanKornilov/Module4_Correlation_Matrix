{
 "cells": [
  {
   "cell_type": "code",
   "execution_count": 15,
   "id": "1c4d2782",
   "metadata": {},
   "outputs": [],
   "source": [
    "import numpy as np\n",
    "from scipy import stats\n",
    "import matplotlib.pyplot as plt\n",
    "import seaborn as sns\n",
    "import pandas as pd"
   ]
  },
  {
   "cell_type": "code",
   "execution_count": 25,
   "id": "b32ba2fd",
   "metadata": {},
   "outputs": [],
   "source": [
    "df = pd.DataFrame([[3.00,17.00,9.10],\n",
    "              [3.50,22.00,5.50],\n",
    "              [4.00,14.00,12.30],\n",
    "              [5.00,17.00,9.20],\n",
    "              [6.00,15.00,14.20],\n",
    "              [6.50,12.00,16.80],\n",
    "              [7.00,11.00,22.0],\n",
    "              [8.00,9.00,18.30],\n",
    "              [8.50,8.00,24.50],\n",
    "              [9.00,6.00,22.70]], columns=['X', 'Y', 'Z'])"
   ]
  },
  {
   "cell_type": "code",
   "execution_count": 26,
   "id": "3aac567e",
   "metadata": {},
   "outputs": [
    {
     "name": "stdout",
     "output_type": "stream",
     "text": [
      "          X         Y         Z\n",
      "X  1.000000 -0.908020  0.917953\n",
      "Y -0.908020  1.000000 -0.943831\n",
      "Z  0.917953 -0.943831  1.000000\n"
     ]
    }
   ],
   "source": [
    "r = df.corr()\n",
    "print(r) # корреляционная матрица"
   ]
  },
  {
   "cell_type": "code",
   "execution_count": 27,
   "id": "1fd3b5b0",
   "metadata": {},
   "outputs": [
    {
     "data": {
      "text/plain": [
       "<AxesSubplot:>"
      ]
     },
     "execution_count": 27,
     "metadata": {},
     "output_type": "execute_result"
    },
    {
     "data": {
      "image/png": "[encoded data removed]",
      "text/plain": [
       "<Figure size 432x288 with 2 Axes>"
      ]
     },
     "metadata": {
      "needs_background": "light"
     },
     "output_type": "display_data"
    }
   ],
   "source": [
    "sns.heatmap(df.corr(), annot = True, vmin=-1, vmax=1, center=0, cmap='coolwarm')"
   ]
  },
  {
   "cell_type": "code",
   "execution_count": 29,
   "id": "4fffd3f4",
   "metadata": {},
   "outputs": [
    {
     "name": "stdout",
     "output_type": "stream",
     "text": [
      "(-0.9080196243908145, 0.00027989698995151537)\n"
     ]
    }
   ],
   "source": [
    "r = stats.pearsonr(df.X,df.Y) # выборочный коэффициент корреляции и п-значение \n",
    "print(r)"
   ]
  },
  {
   "cell_type": "code",
   "execution_count": 30,
   "id": "0fcc1757",
   "metadata": {},
   "outputs": [],
   "source": [
    "# есть СИЛЬНЯ отрицательная корреляция между X и Y \n",
    "# Нулевую гипотезу о том, что величины некоррелируемы ОТВЕРГАЕМ "
   ]
  },
  {
   "cell_type": "code",
   "execution_count": 31,
   "id": "ef8ba280",
   "metadata": {},
   "outputs": [
    {
     "name": "stdout",
     "output_type": "stream",
     "text": [
      "(0.91795328568069, 0.00017939452218540186)\n"
     ]
    }
   ],
   "source": [
    "r = stats.pearsonr(df.X,df.Z) # выборочный коэффициент корреляции и п-значение \n",
    "print(r)"
   ]
  },
  {
   "cell_type": "code",
   "execution_count": 32,
   "id": "8da074e3",
   "metadata": {},
   "outputs": [],
   "source": [
    "# есть СИЛЬНЯ положительная корреляция между X и Z \n",
    "# Нулевую гипотезу о том, что величины некоррелируемы ОТВЕРГАЕМ "
   ]
  },
  {
   "cell_type": "code",
   "execution_count": 33,
   "id": "c85e8363",
   "metadata": {},
   "outputs": [
    {
     "name": "stdout",
     "output_type": "stream",
     "text": [
      "(-0.9438313065187783, 4.0679697525823744e-05)\n"
     ]
    }
   ],
   "source": [
    "r = stats.pearsonr(df.Y,df.Z) # выборочный коэффициент корреляции и п-значение \n",
    "print(r)"
   ]
  },
  {
   "cell_type": "code",
   "execution_count": 34,
   "id": "d076b00f",
   "metadata": {},
   "outputs": [],
   "source": [
    "# есть СИЛЬНЯ отрицательная корреляция между Y и Z \n",
    "# Нулевую гипотезу о том, что величины некоррелируемы ОТВЕРГАЕМ "
   ]
  },
  {
   "cell_type": "code",
   "execution_count": null,
   "id": "a218dac7",
   "metadata": {},
   "outputs": [],
   "source": []
  }
 ],
 "metadata": {
  "kernelspec": {
   "display_name": "Python 3 (ipykernel)",
   "language": "python",
   "name": "python3"
  },
  "language_info": {
   "codemirror_mode": {
    "name": "ipython",
    "version": 3
   },
   "file_extension": ".py",
   "mimetype": "text/x-python",
   "name": "python",
   "nbconvert_exporter": "python",
   "pygments_lexer": "ipython3",
   "version": "3.8.3"
  }
 },
 "nbformat": 4,
 "nbformat_minor": 5
}
